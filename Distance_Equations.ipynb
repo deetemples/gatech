{
 "cells": [
  {
   "cell_type": "markdown",
   "metadata": {},
   "source": [
    "# Programming project 2  (total:60 points)\n",
    "\n",
    "Due Oct 6, 11:59PM."
   ]
  },
  {
   "cell_type": "markdown",
   "metadata": {},
   "source": [
    "Problem 1. (10 points)\n",
    "\n",
    "Write a Python program that constructs two 10 ×10 matrices M and N of integers. The first matrix M is a 10 ×10 matrix of integers such as 𝑀[𝑖,𝑗] = 𝑖∗j (notice that i and j start with 0). The second is a diagonal matrix, defined as follows: N[𝑖,𝑗] = 1 if i=j and N[𝑖,𝑗] = 0 otherwise.  It then computes and prints the matrix C which is the difference of M and N, i.e. C[𝑖,𝑗] = 𝑀[𝑖,𝑗] − 𝑁[𝑖,𝑗]. "
   ]
  },
  {
   "cell_type": "code",
   "execution_count": 16,
   "metadata": {},
   "outputs": [
    {
     "name": "stdout",
     "output_type": "stream",
     "text": [
      "M:\n",
      "[[0, 0, 0, 0, 0, 0, 0, 0, 0, 0], [0, 1, 2, 3, 4, 5, 6, 7, 8, 9], [0, 2, 4, 6, 8, 10, 12, 14, 16, 18], [0, 3, 6, 9, 12, 15, 18, 21, 24, 27], [0, 4, 8, 12, 16, 20, 24, 28, 32, 36], [0, 5, 10, 15, 20, 25, 30, 35, 40, 45], [0, 6, 12, 18, 24, 30, 36, 42, 48, 54], [0, 7, 14, 21, 28, 35, 42, 49, 56, 63], [0, 8, 16, 24, 32, 40, 48, 56, 64, 72], [0, 9, 18, 27, 36, 45, 54, 63, 72, 81]]\n",
      "N:\n",
      "[[1, 0, 0, 0, 0, 0, 0, 0, 0, 0], [0, 1, 0, 0, 0, 0, 0, 0, 0, 0], [0, 0, 1, 0, 0, 0, 0, 0, 0, 0], [0, 0, 0, 1, 0, 0, 0, 0, 0, 0], [0, 0, 0, 0, 1, 0, 0, 0, 0, 0], [0, 0, 0, 0, 0, 1, 0, 0, 0, 0], [0, 0, 0, 0, 0, 0, 1, 0, 0, 0], [0, 0, 0, 0, 0, 0, 0, 1, 0, 0], [0, 0, 0, 0, 0, 0, 0, 0, 1, 0], [0, 0, 0, 0, 0, 0, 0, 0, 0, 1]]\n",
      "C:\n",
      "[[-1, 0, 0, 0, 0, 0, 0, 0, 0, 0], [0, 0, 2, 3, 4, 5, 6, 7, 8, 9], [0, 2, 3, 6, 8, 10, 12, 14, 16, 18], [0, 3, 6, 8, 12, 15, 18, 21, 24, 27], [0, 4, 8, 12, 15, 20, 24, 28, 32, 36], [0, 5, 10, 15, 20, 24, 30, 35, 40, 45], [0, 6, 12, 18, 24, 30, 35, 42, 48, 54], [0, 7, 14, 21, 28, 35, 42, 48, 56, 63], [0, 8, 16, 24, 32, 40, 48, 56, 63, 72], [0, 9, 18, 27, 36, 45, 54, 63, 72, 80]]\n"
     ]
    }
   ],
   "source": [
    "# Write your code below\n",
    "first_matrix = [[0 for col in range(10)] for row in range(10)]\n",
    "for row in range(10):\n",
    "    for col in range(10):\n",
    "        first_matrix[row][col]= row*col\n",
    "print(\"M:\")\n",
    "print(first_matrix)\n",
    "\n",
    "sec_matrix = [[0 for col in range(10)] for row in range(10)]\n",
    "for row in range(10):\n",
    "    for col in range(10):\n",
    "        if row==col:\n",
    "            sec_matrix[row][col]=1\n",
    "        else:\n",
    "            sec_matrix[row][col]=0\n",
    "print(\"N:\")\n",
    "print(sec_matrix)\n",
    "\n",
    "diff_matrix = [[0 for col in range(10)] for row in range(10)]\n",
    "rowsA = len(first_matrix)\n",
    "colsB = len(sec_matrix[0])\n",
    "for row in range(rowsA):\n",
    "    for col in range (colsB):\n",
    "        diff_matrix[row][col] = first_matrix[row][col]-sec_matrix[row][col]\n",
    "print(\"C:\")\n",
    "print(diff_matrix)       "
   ]
  },
  {
   "cell_type": "markdown",
   "metadata": {},
   "source": [
    "Problem 2. (35 points)\n",
    "\n",
    "A permutation p of n symbols is an ordered list of n symbols (no repetitions). We call n the length of the permutation. \n",
    "In the following, we use the symbols a,b,c,….. For example, p=cefdab is a permutation of length 6 on the symbols a,b,c,d,e,f. \n",
    "We denote by p[i] the symbol of p at position i,i=1,⋯,n, and by 〖pos〗_p [x] the position of symbol x in p. If p=cdab is a permutation on 4 symbols we have p[3]=a and 〖pos〗_p [a]=3.\n",
    "Given two permutations p and q of the same length n we want to compute their distance. Many definitions of distance between two permutations exist in the literature. In this project, we consider the following common definitions: Hamming distance, Kendall’s distance, Spearman distance.\n",
    "The input permutations have length less than 26 and are on symbols of the English alphabet. Your program:\n",
    "    1. checks that each input permutation is valid, i.e. there are no repeated symbols. If not the program stops.\n",
    "    2. checks that the permutations are on the same set of symbols. If not the program stops.\n",
    "    3. Computes and prints the above 3 distances between the input permutations: Hamming distance, Kendall’s distance, Spearman distance.\n",
    "    \n",
    "Below are the definitions of the distances:"
   ]
  },
  {
   "cell_type": "markdown",
   "metadata": {},
   "source": [
    "Hamming distance (10 points): Given two permutations p and q of length n, it counts the number of positions at which  p and q have a mismatch. \n",
    "Ex.  p= cefdab  and q= cfebad  \n",
    "The Hamming distance of p and q is 4 since the two permutations differ in 4 positions; i.e.  2,3,4,5.\n",
    "\n",
    "What is the maximum value of the Hamming distance between any two permutations as a function of the length n of the permutations? What is the time complexity in big O notation of your program as a function of n? Write your answers as comments in your code"
   ]
  },
  {
   "cell_type": "code",
   "execution_count": 26,
   "metadata": {},
   "outputs": [
    {
     "name": "stdout",
     "output_type": "stream",
     "text": [
      "First Permutation: abcdefghijklmnopqrstuvwxyz\n",
      "Second Permutation: zyxwvutsrqponmlkjihgfedcba\n",
      "\n",
      "\n",
      "Hamming Distance = 26\n"
     ]
    }
   ],
   "source": [
    "# Write your code below for Hamming distance\n",
    "string1 = input(\"First Permutation: \")\n",
    "string2 = input(\"Second Permutation: \")\n",
    "def valid(string1, string2):\n",
    "    list1 = []\n",
    "    result = ''\n",
    "    for value in string1:\n",
    "        if value in list1:\n",
    "            print(\"Permutation Not Valid\")\n",
    "            return None\n",
    "        else:\n",
    "            list1.append(value)\n",
    "    list2 = []\n",
    "    for value in string2:\n",
    "        if value in list2:\n",
    "            print(\"Permutation Not Valid\")\n",
    "            return None\n",
    "        else:\n",
    "            list2.append(value)\n",
    "    return result    \n",
    "def same(string1, string2):\n",
    "    result = \"\"\n",
    "    for value in string2:\n",
    "        if value in string1:\n",
    "            continue\n",
    "        else:\n",
    "            print(\"Not on Same Alphabet\")\n",
    "            return None\n",
    "    return result\n",
    "\n",
    "def hamming(string1, string2):\n",
    "    distance = 0\n",
    "    pos = 0\n",
    "    for value in string1:\n",
    "        if value == string2[pos]:\n",
    "            distance += 0\n",
    "        else:\n",
    "            distance += 1\n",
    "        pos += 1\n",
    "    return \"Hamming Distance = \" + str(distance)\n",
    "\n",
    "keepGoing = True\n",
    "result = valid(string1, string2)\n",
    "if result is not None:\n",
    "    keepGoing = True\n",
    "    print(result)\n",
    "else:\n",
    "    keepGoing = False\n",
    "\n",
    "if keepGoing:\n",
    "    result = same(string1, string2)\n",
    "    if result is not None:\n",
    "        keepGoing = True\n",
    "        print(same(string1, string2))\n",
    "    else:\n",
    "        keepGoing = False\n",
    "\n",
    "if keepGoing:\n",
    "    result = hamming(string1, string2)\n",
    "    if result is not None:\n",
    "        keepGoing = True\n",
    "        print(hamming(string1,string2))\n",
    "    else:\n",
    "        keepGoing = False\n",
    "\n",
    "#max distance: n\n",
    "#time complexity: O(n^2)"
   ]
  },
  {
   "attachments": {
    "image.png": {
     "image/png": "[encoded data removed]"
    }
   },
   "cell_type": "markdown",
   "metadata": {},
   "source": [
    "Kendall’s distance (15 points): The Kendall’s tau distance KD counts the number of discordant pairs of symbols occurring between two permutations. A discordant pair of symbols, referred to as an inversion or transposition, occurs when two symbols appear in different orders in the two permutations. For example, in  p= cefdab  and q= cfebad the symbols b and d are discordant.   Formally,  \n",
    "\n",
    "![image.png](attachment:image.png)\n",
    "\n",
    "The distance is 4 since there are 4 inversions, that is pairs that occur in different order, precisely (e,f), (a,b), (b,d) (a,d)\n",
    "What is the maximum value of the Kendall distance between any two permutations as a function of n? What is the time complexity in big O notation of your program? Write your answers as  comments in your code\n",
    "Implementation: \n",
    "Below two methods are described to compute the Kendall’s distance. You choose either one of the two. They are both worth 15 points. Method 1 is slightly simpler, so if you want to challenge yourself choose method 2. You are free to implement both, however your score will still be 15.\n",
    "Do NOT use functions in statistical packages."
   ]
  },
  {
   "attachments": {
    "image.png": {
     "image/png": "[encoded data removed]"
    }
   },
   "cell_type": "markdown",
   "metadata": {},
   "source": [
    "Method 1. You determine for every pair of symbols whether they are in the same or different order in the input permutations\n",
    "Method 2. Represent a permutation p by a precedence matrix P, that is a n×n matrix defined as follows:\n",
    "P[x,y]=1 if symbol  x precedes y, and P[x,y]=0  otherwise.\n",
    "For example, the matrix P associated to p= cefdab   is \n",
    "![image.png](attachment:image.png)\n",
    "You can compute the Kendall distance between p and q as follows. Construct the two matrices P and Q as above and  ….  (you continue)."
   ]
  },
  {
   "cell_type": "code",
   "execution_count": 5,
   "metadata": {},
   "outputs": [
    {
     "name": "stdout",
     "output_type": "stream",
     "text": [
      "First Permutation: zyxwvutsrqponmlkjihgfedcba\n",
      "Second Permutation: abcdefghijklmnopqrstuvwxyz\n",
      "\n",
      "\n",
      "Kendall's Distance = 325.0\n"
     ]
    }
   ],
   "source": [
    "# Write your code below for Kendall distance\n",
    "string1 = input(\"First Permutation: \")\n",
    "string2 = input(\"Second Permutation: \")\n",
    "def valid(string1, string2):\n",
    "    list1 = []\n",
    "    result = ''\n",
    "    for value in string1:\n",
    "        if value in list1:\n",
    "            print(\"Permutation Not Valid\")\n",
    "            return None\n",
    "        else:\n",
    "            list1.append(value)\n",
    "    list2 = []\n",
    "    for value in string2:\n",
    "        if value in list2:\n",
    "            print(\"Permutation Not Valid\")\n",
    "            return None\n",
    "        else:\n",
    "            list2.append(value)\n",
    "    return result \n",
    "\n",
    "def same(string1, string2):\n",
    "    result = \"\"\n",
    "    for value in string2:\n",
    "        if value in string1:\n",
    "            continue\n",
    "        else:\n",
    "            print(\"Not on Same Alphabet\")\n",
    "            return None\n",
    "    return result\n",
    "\n",
    "def kendall(string1, string2):\n",
    "    distance = 0\n",
    "    list1 = []\n",
    "    list2 = []\n",
    "    for value in string1:\n",
    "        list1.append(value)\n",
    "    for value in string2:\n",
    "        list2.append(value)\n",
    "    for value1 in list1:\n",
    "        for value2 in list2:\n",
    "            index3 = string2.index(value1)\n",
    "            index4 = string2.index(value2)\n",
    "            index1 = string1.index(value1)\n",
    "            index2 = string1.index(value2)\n",
    "            if (index1 < index2 and index3 > index4) or (index1 > index2 and index3 < index4):\n",
    "                distance += 1\n",
    "            else:\n",
    "                distance += 0\n",
    "    return \"Kendall's Distance = \" + str(distance/2)\n",
    "\n",
    "keepGoing = True\n",
    "result = valid(string1, string2)\n",
    "if result is not None:\n",
    "    keepGoing = True\n",
    "    print(result)\n",
    "else:\n",
    "    keepGoing = False\n",
    "\n",
    "if keepGoing:\n",
    "    result = same(string1, string2)\n",
    "    if result is not None:\n",
    "        keepGoing = True\n",
    "        print(same(string1, string2))\n",
    "    else:\n",
    "        keepGoing = False\n",
    "\n",
    "if keepGoing:\n",
    "    result = kendall(string1, string2)\n",
    "    if result is not None:\n",
    "        keepGoing = True\n",
    "        print(kendall(string1,string2))\n",
    "    else:\n",
    "        keepGoing = False\n",
    "\n",
    "#max distance: n(n-1)/2\n",
    "#time complexity: O(n^2)"
   ]
  },
  {
   "attachments": {
    "image.png": {
     "image/png": "[encoded data removed]"
    }
   },
   "cell_type": "markdown",
   "metadata": {},
   "source": [
    "Spearman distance (10 points): The Spearman distance or position-based distance is the sum of the absolute differences of the positions of the symbols, i.e\n",
    "![image.png](attachment:image.png)\n",
    "Ex.  p= cefdab  and q= cfebad  \n",
    "The symbol a is at the same position 5 in both permutations and so is c. Thus, they contribute 0 to the above sum. The symbol  b is at position 6 in p and 4 in q thus the absolute value of the difference in position is 2, and so on. In total, the Spearman distance of p and q is 6.\n",
    "\n",
    "What is the time complexity in big O notation of your program as a function of the length n of the permutations. Write your answers as comments in your code"
   ]
  },
  {
   "cell_type": "code",
   "execution_count": 1,
   "metadata": {},
   "outputs": [
    {
     "name": "stdout",
     "output_type": "stream",
     "text": [
      "First Permutation: abcdefghijklmnopqrstuvwxyz\n",
      "Second Permutation: abcdefghijklmnopqrstuvwxyz\n",
      "\n",
      "\n",
      "Spearman Distance = 0\n"
     ]
    }
   ],
   "source": [
    "# Write your code below for Spearman distance\n",
    "string1 = input(\"First Permutation: \")\n",
    "string2 = input(\"Second Permutation: \")\n",
    "def valid(string1, string2):\n",
    "    list1 = []\n",
    "    result = ''\n",
    "    for value in string1:\n",
    "        if value in list1:\n",
    "            print(\"Permutation Not Valid\")\n",
    "            return None\n",
    "        else:\n",
    "            list1.append(value)\n",
    "    list2 = []\n",
    "    for value in string2:\n",
    "        if value in list2:\n",
    "            print(\"Permutation Not Valid\")\n",
    "            return None\n",
    "        else:\n",
    "            list2.append(value)\n",
    "    return result    \n",
    "def same(string1, string2):\n",
    "    result = \"\"\n",
    "    for value in string2:\n",
    "        if value in string1:\n",
    "            continue\n",
    "        else:\n",
    "            print(\"Not on Same Alphabet\")\n",
    "            return None\n",
    "    return result\n",
    "\n",
    "def spearman(string1, string2):\n",
    "    distance = 0\n",
    "    for value in string1:\n",
    "        index = string1.index(value)\n",
    "        index2 = string2.index(value)\n",
    "        diff = abs(index-index2)\n",
    "        distance += diff\n",
    "    return \"Spearman Distance = \" + str(distance)\n",
    "\n",
    "keepGoing = True\n",
    "result = valid(string1, string2)\n",
    "if result is not None:\n",
    "    keepGoing = True\n",
    "    print(result)\n",
    "else:\n",
    "    keepGoing = False\n",
    "\n",
    "if keepGoing:\n",
    "    result = same(string1, string2)\n",
    "    if result is not None:\n",
    "        keepGoing = True\n",
    "        print(same(string1, string2))\n",
    "    else:\n",
    "        keepGoing = False\n",
    "\n",
    "if keepGoing:\n",
    "    result = spearman(string1, string2)\n",
    "    if result is not None:\n",
    "        keepGoing = True\n",
    "        print(spearman(string1,string2))\n",
    "    else:\n",
    "        keepGoing = False\n",
    "        \n",
    "#time complexity: O(n^2)    "
   ]
  },
  {
   "cell_type": "markdown",
   "metadata": {},
   "source": [
    "Problem 3. (15 points)\n",
    "\n",
    "In bioinformatics a k-mer is a substring of k characters of a string that is longer than k. Write a program that takes in input a string of DNA and an integer k. Your program calls a function with two parameters: the string containing DNA and k. It returns and prints a dictionary of k-mer counts.\n",
    "Example: Inputs.  string of DNA:  aaaacctcctaaa; k=3.\n",
    "Output dictionary:  {“aaa”:4, “aac”:1, “acc”:1,”cct”:2, “ctc”:1,”cct”:1,”tcc”:1,”cta”:1,”taa”:1}\n",
    "\n",
    "What is the time complexity in big O notation of your program as a function of the length n of the DNA string and k? Write your answers as comments in your code"
   ]
  },
  {
   "cell_type": "code",
   "execution_count": 2,
   "metadata": {},
   "outputs": [
    {
     "name": "stdout",
     "output_type": "stream",
     "text": [
      "{'aaa': 3, 'aac': 1, 'acc': 1, 'cct': 2, 'ctc': 1, 'tcc': 1, 'cta': 1, 'taa': 1}\n"
     ]
    }
   ],
   "source": [
    "# Write your code below\n",
    "dict = {}\n",
    "k = int(3)\n",
    "fasta = \"aaaacctcctaaa\"\n",
    "\n",
    "for i in range(len(fasta) - k + 1):\n",
    "    kmer = fasta[i:i+k]\n",
    "    if kmer in dict.keys():\n",
    "        dict[kmer] += 1\n",
    "    else:\n",
    "        dict[kmer] = 1\n",
    "print(dict)\n",
    "\n",
    "#time complexity: O(n^2)"
   ]
  },
  {
   "cell_type": "code",
   "execution_count": null,
   "metadata": {},
   "outputs": [],
   "source": []
  }
 ],
 "metadata": {
  "kernelspec": {
   "display_name": "Python 3",
   "language": "python",
   "name": "python3"
  },
  "language_info": {
   "codemirror_mode": {
    "name": "ipython",
    "version": 3
   },
   "file_extension": ".py",
   "mimetype": "text/x-python",
   "name": "python",
   "nbconvert_exporter": "python",
   "pygments_lexer": "ipython3",
   "version": "3.8.3"
  }
 },
 "nbformat": 4,
 "nbformat_minor": 4
}

{
 "cells": [
  {
   "cell_type": "markdown",
   "metadata": {},
   "source": [
    "# CS4710 - Programming project 1. (30 points)\n",
    "### Due Sept. 25, 5pm. \n",
    "### Please fill out your codes into this file and return the file as the submission. Please do not import any package/models."
   ]
  },
  {
   "cell_type": "markdown",
   "metadata": {},
   "source": [
    "##### 1.Write a Python program that prints the numbers of a given list of integers at even positions. "
   ]
  },
  {
   "cell_type": "code",
   "execution_count": 1,
   "metadata": {},
   "outputs": [
    {
     "name": "stdout",
     "output_type": "stream",
     "text": [
      "12 3 35 7 19 "
     ]
    }
   ],
   "source": [
    "target_list = [12,23,3,14,35,16,7,28,19]\n",
    "\n",
    "#your codes below\n",
    "for x in range(len(target_list)):\n",
    "    if x%2 == 0:\n",
    "        print(target_list[x], end = \" \")"
   ]
  },
  {
   "cell_type": "markdown",
   "metadata": {},
   "source": [
    "##### 2. Write a Python program that prints the even numbers of a given list of integers."
   ]
  },
  {
   "cell_type": "code",
   "execution_count": 2,
   "metadata": {},
   "outputs": [
    {
     "name": "stdout",
     "output_type": "stream",
     "text": [
      "12 24 6 38 "
     ]
    }
   ],
   "source": [
    "target_list = [11,12,33,24,15,6,47,38,29]\n",
    "\n",
    "#your codes below\n",
    "for num in target_list:\n",
    "    if num%2 == 0:\n",
    "        print(num, end = \" \")"
   ]
  },
  {
   "cell_type": "markdown",
   "metadata": {},
   "source": [
    "##### 3. Write a Python program to concatenate two given strings after removing the first character of each string."
   ]
  },
  {
   "cell_type": "code",
   "execution_count": 3,
   "metadata": {},
   "outputs": [
    {
     "name": "stdout",
     "output_type": "stream",
     "text": [
      "ApplePen\n"
     ]
    }
   ],
   "source": [
    "apple = \"AApple\"\n",
    "pen = \"APen\"\n",
    "\n",
    "#your codes below\n",
    "first_string = apple[1:]\n",
    "second_string = pen[1:]\n",
    "new_string = first_string + second_string\n",
    "print(new_string)"
   ]
  },
  {
   "cell_type": "markdown",
   "metadata": {},
   "source": [
    "##### 4. Write a Python program to print the number of occurrences (or frequency) of each of the 4 fours characters A, T, C, G and their total number.\n",
    "\n",
    "As a comment in your code write the time complexity of your algorithm in big O notation as a function of the lengths n of the list"
   ]
  },
  {
   "cell_type": "code",
   "execution_count": 4,
   "metadata": {},
   "outputs": [
    {
     "name": "stdout",
     "output_type": "stream",
     "text": [
      "Frequency of A: 27\n",
      "Frequency of T: 41\n",
      "Frequency of C: 31\n",
      "Frequency of G: 20\n"
     ]
    }
   ],
   "source": [
    "seq = \"aagcttcttc ttcgatatcg acttacacgc aagttcttct cttgtttctt tgtctgtgca aagatacgtt acaccgaatt cacctctacc gagttcacga ccgagttcgt aacgagttt\"\n",
    "\n",
    "#your codes below\n",
    "A = \"a\"\n",
    "T = \"t\"\n",
    "C = \"c\"\n",
    "G = \"g\"\n",
    "\n",
    "A_count = seq.count(A)\n",
    "print(\"Frequency of A:\", A_count)\n",
    "\n",
    "T_count = seq.count(T)\n",
    "print(\"Frequency of T:\", T_count)\n",
    "\n",
    "C_count = seq.count(C)\n",
    "print(\"Frequency of C:\", C_count)\n",
    "\n",
    "G_count = seq.count(G)\n",
    "print(\"Frequency of G:\", G_count)\n",
    "\n",
    "#time complexity: O(n)"
   ]
  },
  {
   "cell_type": "markdown",
   "metadata": {},
   "source": [
    "##### 5. A permutation p of n symbols is an ordered list of n symbols (no repetitions). Write a Python program that takes a list representing a permutation on a given set of characters (for instance a,b,c,d,e,f) and prints the index (position) of each character in the list. \n",
    "#### For example, p=[c,e,f,d,a,b] is a permutation of length 6 on the symbols a,b,c,d,e,f. The output should be:\n",
    "a:4<br>\n",
    "b:5<br>\n",
    "c:0<br>\n",
    "d:3<br>\n",
    "e:1<br>\n",
    "f:2<br>\n",
    "\n",
    "(ordered output is not required)\n"
   ]
  },
  {
   "cell_type": "code",
   "execution_count": 5,
   "metadata": {},
   "outputs": [
    {
     "name": "stdout",
     "output_type": "stream",
     "text": [
      "c:0\n",
      "e:1\n",
      "f:2\n",
      "d:3\n",
      "a:4\n",
      "b:5\n"
     ]
    }
   ],
   "source": [
    "#insert a list here\n",
    "p = [\"c\",\"e\",\"f\",\"d\",\"a\",\"b\"]\n",
    "\n",
    "#your codes below\n",
    "for i in p:\n",
    "    print(i+\":\"+str(p.index(i)))"
   ]
  },
  {
   "cell_type": "markdown",
   "metadata": {},
   "source": [
    "##### 6.\tWrite a python program that reads a list of items and for every item x determines the number of its occurrences (or frequency) in the list denoted by f (x).\n",
    "Ex. Input list $L=[1, 0, 0,1,1, 0, 2, 2, 1]$; Output: f(0)=3, f(1)=4, f(2)=2.\n",
    "\n",
    "As a comment in your code write the worst-case time complexity of your algorithm in big O notation as a function of the lengths n of the list\n"
   ]
  },
  {
   "cell_type": "code",
   "execution_count": 1,
   "metadata": {},
   "outputs": [
    {
     "name": "stdout",
     "output_type": "stream",
     "text": [
      "f(1)=4 f(0)=3 f(2)=2 f(3)=1 "
     ]
    }
   ],
   "source": [
    "L=[1, 0, 0,1,1, 0, 2, 2, 1, 3]\n",
    "\n",
    "\n",
    "#your codes below\n",
    "\n",
    "d = {x:L.count(x) for x in L}\n",
    "value = list(d.keys())\n",
    "freq = list(d.values())\n",
    "for x in range(len(value)):\n",
    "    print(\"f(\"+str(value[x])+\")=\"+str(freq[x]),end=' ')\n",
    "\n",
    "    \n",
    "#time complexity:O(n)"
   ]
  },
  {
   "cell_type": "markdown",
   "metadata": {},
   "source": [
    "## 7.Write a Python program that takes two lists and calls a function that determines their intersection.\n",
    "Ex. Input: list1: [0,1,2, 7,5,3]; list2: [1, 0, 3, 2, 6] Output: 0,1,2,3.\n",
    "As a comment in your code write the worst-casetime complexity of your algorithm in big O notation as a function of the lengths n and m of the two lists\n"
   ]
  },
  {
   "cell_type": "code",
   "execution_count": 4,
   "metadata": {},
   "outputs": [
    {
     "name": "stdout",
     "output_type": "stream",
     "text": [
      "0,1,2,3\n"
     ]
    }
   ],
   "source": [
    "#insert the lists here\n",
    "list1 = [0,1,2, 7,5,3]\n",
    "list2 = [1, 0, 3, 2, 6]\n",
    "#your codes below\n",
    "\n",
    "def intersect(list1, list2):\n",
    "    match = []\n",
    "    for x in list1:\n",
    "        if x in list2:\n",
    "            match.append(x)\n",
    "    print(','.join([str(x) for x in match]))\n",
    "intersect(list1,list2)\n",
    "\n",
    "#time complexity: O(n*m)"
   ]
  },
  {
   "cell_type": "markdown",
   "metadata": {},
   "source": [
    "##### \t8. Write a python program that reads two lists of numbers  $X=[x_0,  x_1, ⋯,x_{n-1}]$ and $Y=[y_0,  y_1, ⋯,y_{n-1}]$ and calls a function that computes their distance \n",
    "\\begin{equation}\n",
    "L1-dist= \\sum_{i=0}^{n-1}  |x_i - y_i| = |x_0-y_0|+ |x_1-y_1| + \\cdots +|x_{n-1}-y_{n-1}|\n",
    "\\end{equation}\n",
    "where the symbols |x| denotes the absolute value of x. \n",
    "As a comment in your code write the worst-case time complexity of your algorithm in big O notation as a function of the lengths n of the two lists\n"
   ]
  },
  {
   "cell_type": "code",
   "execution_count": 13,
   "metadata": {},
   "outputs": [
    {
     "name": "stdout",
     "output_type": "stream",
     "text": [
      "5\n"
     ]
    }
   ],
   "source": [
    "#insert your lists here\n",
    "x = [4,2,3,6]\n",
    "y = [1,3,2,6]\n",
    "#your codes below\n",
    "\n",
    "def abs_dist(x,y):\n",
    "    total = 0\n",
    "    for i in range(len(x)):\n",
    "        distance = abs(x[i]-y[i])\n",
    "        total = total + distance\n",
    "    print(total)\n",
    "\n",
    "abs_dist(x,y)\n",
    "\n",
    "#time complexity: O(n)"
   ]
  },
  {
   "cell_type": "markdown",
   "metadata": {},
   "source": [
    "##### \t9. Write a python program that reads two lists of numbers $X=[x_0,  x_1, ⋯,x_{n-1}]$ and $Y=[y_0,  y_1, ⋯,y_{n-1}]$ and calls a function that computes their distance of the two lists defined as  \n",
    "\\begin{equation}\n",
    "L2-dist= \\sqrt {\\sum_{i=0}^{n-1}  (x_i - y_i)^2} = \\sqrt{(x_0-y_0)^2+ (x_1-y_1)^2 + \\cdots +(x_{n-1}-y_{n-1})^2}\n",
    "\\end{equation}\n",
    "\n",
    "As a comment in your code write the worst-case time complexity in big O notation of your algorithm as a function of the lengths n of the two lists\n"
   ]
  },
  {
   "cell_type": "code",
   "execution_count": 18,
   "metadata": {},
   "outputs": [
    {
     "name": "stdout",
     "output_type": "stream",
     "text": [
      "6.0\n"
     ]
    }
   ],
   "source": [
    "#insert your lists here\n",
    "x = [5,4,8,5]\n",
    "y = [2,3,3,4]\n",
    "#your codes below\n",
    "\n",
    "def sq_dist(x,y):\n",
    "    total = 0\n",
    "    for i in range(len(x)):\n",
    "        distance = (x[i]-y[i])**2\n",
    "        total = total + distance\n",
    "    print((total)**0.5)\n",
    "\n",
    "sq_dist(x,y)  \n",
    "\n",
    "#time complexity: O(n)"
   ]
  },
  {
   "cell_type": "code",
   "execution_count": null,
   "metadata": {},
   "outputs": [],
   "source": []
  }
 ],
 "metadata": {
  "kernelspec": {
   "display_name": "Python 3",
   "language": "python",
   "name": "python3"
  },
  "language_info": {
   "codemirror_mode": {
    "name": "ipython",
    "version": 3
   },
   "file_extension": ".py",
   "mimetype": "text/x-python",
   "name": "python",
   "nbconvert_exporter": "python",
   "pygments_lexer": "ipython3",
   "version": "3.8.3"
  }
 },
 "nbformat": 4,
 "nbformat_minor": 4
}
